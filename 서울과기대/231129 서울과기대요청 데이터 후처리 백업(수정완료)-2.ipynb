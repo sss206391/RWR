{
 "cells": [
  {
   "cell_type": "code",
   "execution_count": null,
   "id": "c407a0d4",
   "metadata": {},
   "outputs": [],
   "source": [
    "# 1.각 compound 들의 조합gene들이\n",
    "# 2. ppi network로 인하여 seed node로 설정되는데 \n",
    "# 이 seed 노드는 조합마다 다를 것 같습니다.\n",
    "# 3. 조합별 Seed node와 위 gene-Phenotype 의 교집합을 phenotype 별로 출력되게 주시면 될 것 같습니다 "
   ]
  }
 ],
 "metadata": {
  "kernelspec": {
   "display_name": "jy1",
   "language": "python",
   "name": "jy1"
  },
  "language_info": {
   "codemirror_mode": {
    "name": "ipython",
    "version": 3
   },
   "file_extension": ".py",
   "mimetype": "text/x-python",
   "name": "python",
   "nbconvert_exporter": "python",
   "pygments_lexer": "ipython3",
   "version": "3.7.16"
  }
 },
 "nbformat": 4,
 "nbformat_minor": 5
}
