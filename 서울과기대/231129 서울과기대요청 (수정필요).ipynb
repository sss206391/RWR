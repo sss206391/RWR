{
 "cells": [
  {
   "cell_type": "code",
   "execution_count": 19,
   "id": "0664eb6a",
   "metadata": {},
   "outputs": [],
   "source": [
    "# 엑셀파일이 'phenotype mappingv3.xlsx', '1_검증.csv' 이렇게 2개가 있어\n",
    "#  'phenotype mappingv3.xlsx' 파일은 UMLSID, Group, GroupID 이렇게 3개의 컬럼이 존재하고\n",
    "# '1_검증.csv' 파일은 Phenotype, Network_score, z-score, P-value, UMLSID 이렇게 5개의 컬럼이 존재해\n",
    "# 여기서 '1_검증.csv' 파일 내에 있는 UMLSID의 데이터와  'phenotype mappingv3.xlsx' 파일 내에 있는 UMLSID의 데이터가 일치하면 Group, GroupID 값을 가져와서 똑같이 써주고, 아니면 None 값을 써주고 싶어\n",
    "# 그래서 최종적으로 '1_검증.csv' 파일내에 Phenotype, Network_score, z-score, P-value, UMLSID, Group, GroupID 이렇게 7개의 컬럼이 존재하게 만들고 싶어\n",
    "# 이렇게 코드 짜줘\n",
    "\n",
    "import numpy as np\n",
    "import pandas as pd\n",
    "import configparser\n",
    "import psycopg2\n",
    "import os\n",
    "import ast\n",
    "import networkx as nx\n",
    "import random\n",
    "import time\n",
    "import math\n",
    "import datetime\n",
    "import csv\n",
    "import statistics\n",
    "from collections import defaultdict\n",
    "from statistics import harmonic_mean\n",
    "\n",
    "# phenotype_mapping_file='/data/home/sss2061/식약처보고서/서울과기대/phenotype mappingv3.xlsx'\n",
    "\n",
    "# '1_검증.csv' 파일을 읽어옵니다.\n",
    "\n",
    "number=2\n",
    "validation_df = pd.read_csv('result/{}차/{}_검증.csv'.format(number,number))\n",
    "\n",
    "# 'phenotype mappingv3.xlsx' 파일을 읽어옵니다.\n",
    "mapping_df = pd.read_excel('phenotype mappingv3.xlsx', engine='openpyxl')\n",
    "\n",
    "# '1_검증.csv' 파일 내의 UMLSID와 'phenotype mappingv3.xlsx' 파일 내의 UMLSID를 기반으로 병합합니다.\n",
    "merged_df = validation_df.merge(mapping_df, on='UMLSID', how='left')\n",
    "\n",
    "# Group 및 GroupID가 없는 경우 None으로 채웁니다.\n",
    "merged_df['Group'].fillna('None', inplace=True)\n",
    "merged_df['GroupID'].fillna('None', inplace=True)\n",
    "\n",
    "# 결과를 'merged_1_검증.csv' 파일로 저장합니다.\n",
    "merged_df.to_csv('merged_14_검증.csv', index=False)"
   ]
  },
  {
   "cell_type": "code",
   "execution_count": 20,
   "id": "0d5aab7d",
   "metadata": {},
   "outputs": [],
   "source": [
    "import pandas as pd\n",
    "from sklearn.preprocessing import MinMaxScaler\n",
    "\n",
    "# 'merged_1_검증.xlsx' 파일을 읽어옵니다.\n",
    "df = pd.read_csv('merged_14_검증.csv')  # 파일 경로를 확인해주세요.\n",
    "\n",
    "# 'Network_score' 컬럼의 데이터를 추출합니다.\n",
    "network_scores = df['Network_score']\n",
    "\n",
    "# Min-Max Scaling을 0부터 1로 설정하여 적용합니다.\n",
    "scaler = MinMaxScaler(feature_range=(0, 1))\n",
    "scaled_scores = scaler.fit_transform(network_scores.values.reshape(-1, 1))  # 2D 배열로 변환 후 스케일링\n",
    "\n",
    "# 스케일링된 값을 'scaling_score' 컬럼에 추가합니다.\n",
    "df['scaling_score'] = scaled_scores\n",
    "\n",
    "# 'P-value'의 값을 조정합니다.\n",
    "def adjust_pvalue(value):\n",
    "    if value == 999 or value == 1000:\n",
    "        return 1\n",
    "    else:\n",
    "        return (value+1) / 1000\n",
    "\n",
    "df['P-value'] = df['P-value'].apply(adjust_pvalue)\n",
    "\n",
    "# \"Unnamed\"로 시작하는 컬럼을 찾아 삭제합니다.\n",
    "cols_to_drop = [col for col in df.columns if col.startswith(\"Unnamed\")]\n",
    "df = df.drop(columns=cols_to_drop)\n",
    "\n",
    "# 수정된 DataFrame을 새로운 엑셀 파일로 저장합니다.\n",
    "df.to_csv('merged_14_검증_with_scaling.csv', index=False)  # 저장할 파일명을 지정해주세요."
   ]
  },
  {
   "cell_type": "code",
   "execution_count": null,
   "id": "4184a891",
   "metadata": {},
   "outputs": [],
   "source": []
  },
  {
   "cell_type": "code",
   "execution_count": 1,
   "id": "0f5c5e2f",
   "metadata": {},
   "outputs": [
    {
     "name": "stdout",
     "output_type": "stream",
     "text": [
      "1\n"
     ]
    }
   ],
   "source": [
    "# number=1\n",
    "# text=[\"adenine\", \"canavanin\", \"malate\", \"isoleucine\", \"phenylalanine\", \"tyrosine\", \"isocitrate\", \"glutamine\", \"tryptophan\",\"L-malate\", \n",
    "#       \"theogallin\", \"trans-aconitate\", \"cis-aconitate\", \"threonate\", \"benzoic acid\", \"choline\", \"citric acid\", \"coumarin\", \"phloroglucinol\", \"gallic acid\", \n",
    "#       \"citrullin\", \"pipecolic acid\", \"vitamin B\", \"pantothenic acid\", \"DL-valine\", \"vanillin\", \"theophylline\", \"caffeine\", \"protocatechuic aldehyde\", \"adenosine\", \n",
    "#       \"EGCG\", \"gallocatechin\", \"N-acetylglutamate\", \"loliolide\", \"procyanidin B2\", \"3H-proline\", \"dihydromyricetin\", \"beta-alanine betaine\", \"epicatechin gallate (ECG\", \"5'-methylthioadenosine\", \n",
    "#       \"epiafzelechin\", \"ferulic acid\", \"p-coumaric acid\", \"caffeic acid\", \"chlorogenic acid\", \"quercetin\", \"alpha-isopropylmalate\", \"neochlorogenic acid\", \"rutin\", \"hyperoside\", \n",
    "#       \"4-p-coumaroylquinic acid\", \"astragalin\", \"quercetin 7-O-glucoside\", \"p-coumaroylquinic acid\", \"procyanidin B1\"]\n",
    "\n",
    "# number=2\n",
    "# text=[\"gamma-aminobutyric acid (GABA\", \"canavanin\", \"sucrose\", \"folate\", \"guanosine\", \"vanillic acid\", \"ononin\", \n",
    "#       \"formononetin\", \"calycosin\", \"sissotrin\", \"afrormosin\", \"pratensein\"]\n",
    "\n",
    "# number=3\n",
    "# text=[\"protocatechuic acid\", \"gamma-aminobutyric acid (GABA\", \"choline\", \"citric acid\", \"malate\", \"asparagine\", \n",
    "#       \"quinic acid\", \"maltol\", \"nodakenetin\", \"nodakenin\", \"columbianetin\", \"decursin\", \"ferulic acid\", \"caffeic acid\",\n",
    "#       \"aegelinol\", \"cis-chlorogenic acid\", \"chlorogenic acid\", \"esculetin\"]\n",
    "\n",
    "# number=4\n",
    "# text=[\"piperine\", \"piperanine\", \"piperlonguminine\", \"retrofractamide B\", \"dehydropipernonaline\", \"Methyl piperate\", \"pipernonaline\", \"Retrofractamide A\", \"retrofractamide C\"]\n",
    "\n",
    "# number=5\n",
    "# text=[\"apocynin\", \"resacetophenone\", \"4-hydroxyacetophenone\", \"2,5-dihydroxyacetophenone\", \"physcion\"]\n",
    "\n",
    "# number=6\n",
    "# text=[\"protocatechuic acid\", \"p-hydroxybenzaldehyde\", \"choline\", \"gluconate\", \"myo-inositol\", \"thymine\", \"uracil\", \"vanillin\", \"vanillic acid\", \"protocatechuic aldehyde\", \"trans-aconitate\", \"ferulic acid\", \"caffeic acid\", \"chlorogenic acid\", \"linoleic acid\", \"neochlorogenic acid\", \"xanthatin\", \"cynarin\", \"cynarine\"]\n",
    "\n",
    "# number=7\n",
    "# text=[\"atractylenolide III\", \"vanillic acid\", \"esculetin\", \"elemicin\", \"adenosine\"]\n"
   ]
  }
 ],
 "metadata": {
  "kernelspec": {
   "display_name": "rwr3",
   "language": "python",
   "name": "rwr3"
  },
  "language_info": {
   "codemirror_mode": {
    "name": "ipython",
    "version": 3
   },
   "file_extension": ".py",
   "mimetype": "text/x-python",
   "name": "python",
   "nbconvert_exporter": "python",
   "pygments_lexer": "ipython3",
   "version": "3.10.12"
  }
 },
 "nbformat": 4,
 "nbformat_minor": 5
}
